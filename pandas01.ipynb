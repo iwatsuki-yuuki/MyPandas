{
 "cells": [
  {
   "cell_type": "code",
   "execution_count": null,
   "id": "3688101b-9c48-467f-9b3e-c5e5d4447a83",
   "metadata": {},
   "outputs": [],
   "source": [
    "#pandasをインポート(pandasはpdという名前で使用する)\n",
    "import pandas as pd"
   ]
  },
  {
   "cell_type": "code",
   "execution_count": null,
   "id": "b9ef9523-f507-4fa4-b243-007284334c7e",
   "metadata": {},
   "outputs": [],
   "source": [
    "#二次元リストを使った作成方法\n",
    "#データの中身、カラム名（列の名前、一番上に書く）、インデックス名（行の名前,一番左に書く）の順に記述する\n",
    "df = pd.DataFrame([[1,2,3],[4,5,6],[7,8,9]],\n",
    "                  columns=['cdl01','col02','col03'],\n",
    "                  index=['idx01','idx02','idx03'])\n",
    "#dfって書くだけでデータフレームが見れる\n",
    "df"
   ]
  },
  {
   "cell_type": "code",
   "execution_count": null,
   "id": "53060a80-12ec-48bb-a3d4-f7d0f7b6bc85",
   "metadata": {},
   "outputs": [],
   "source": [
    "#Numpy(高速にリストを計算するためのライブラリ)をインポートし、npという名前をつける\n",
    "import numpy as np"
   ]
  },
  {
   "cell_type": "code",
   "execution_count": null,
   "id": "50e86f3e-692d-4672-98e0-208db06747ea",
   "metadata": {},
   "outputs": [],
   "source": [
    "df = pd.DataFrame(np.array([[1,2,3],[4,5,6],[7,8,9]]),\n",
    "                  columns=['col01','col02','col03'],\n",
    "                  index=['idx01','idx02','idx03'])\n",
    "df"
   ]
  },
  {
   "cell_type": "code",
   "execution_count": null,
   "id": "f8f758b0-bfd9-4540-8d53-0d2ddefd9c42",
   "metadata": {},
   "outputs": [],
   "source": [
    "#indexの値を取得\n",
    "df.index"
   ]
  },
  {
   "cell_type": "code",
   "execution_count": null,
   "id": "243cba84-0ddf-4ef7-8fa9-cdf65e8ac84e",
   "metadata": {},
   "outputs": [],
   "source": [
    "#カラムの値を取得\n",
    "df.columns"
   ]
  },
  {
   "cell_type": "code",
   "execution_count": null,
   "id": "84c98a18-6f28-4a19-a72f-fee951e14cec",
   "metadata": {},
   "outputs": [],
   "source": [
    "#辞書型\n",
    "df = pd.DataFrame({'col01':[1,2,3],\n",
    "                   'col02':[4,5,6],\n",
    "                   'col03':[7,8,9],})\n",
    "df"
   ]
  },
  {
   "cell_type": "code",
   "execution_count": null,
   "id": "003d38a5-1b8c-401b-acdd-4bf69ca8095a",
   "metadata": {},
   "outputs": [],
   "source": [
    "#辞書型のindex名の設定\n",
    "df = pd.DataFrame({'col01':[1,2,3],\n",
    "                   'col02':[4,5,6],\n",
    "                   'col03':[7,8,9],})\n",
    "df.index=['ind01','idx02','idx03']\n",
    "df"
   ]
  },
  {
   "cell_type": "code",
   "execution_count": null,
   "id": "503dee2b-7843-4c60-a1d6-a6f837ee7d48",
   "metadata": {},
   "outputs": [],
   "source": [
    "#辞書型で最初からindex名を記述する方法\n",
    "df = pd.DataFrame({'col01':[1,2,3],\n",
    "                   'col02':[4,5,6],\n",
    "                   'col03':[7,8,9],}\n",
    "                 ,index=['idx01','idx02','idx03'])\n",
    "df"
   ]
  },
  {
   "cell_type": "code",
   "execution_count": null,
   "id": "73b57262-95f2-42dd-9cde-27b80aefcf7d",
   "metadata": {},
   "outputs": [],
   "source": [
    "#カラム、インデックスの操作\n",
    "df = pd.DataFrame([[1,2,3],\n",
    "                   [4,5,6],\n",
    "                   [7,8,9]])\n",
    "df"
   ]
  },
  {
   "cell_type": "code",
   "execution_count": null,
   "id": "9a1ebbf6-befb-4fc7-b63d-728dcf8e5606",
   "metadata": {},
   "outputs": [],
   "source": [
    "df.columns=['col01','col02','col03']\n",
    "df.columns=['idx01','idx02','idx03']"
   ]
  },
  {
   "cell_type": "code",
   "execution_count": null,
   "id": "9310ebf2-049c-46ab-b769-c302833bbdab",
   "metadata": {},
   "outputs": [],
   "source": [
    "df"
   ]
  },
  {
   "cell_type": "code",
   "execution_count": null,
   "id": "c757df77-0364-4dda-b855-e9fffd478255",
   "metadata": {},
   "outputs": [],
   "source": [
    "#カラムの変更\n",
    "df.columns=['col04','col05','col06']"
   ]
  },
  {
   "cell_type": "code",
   "execution_count": null,
   "id": "e8c9727d-8466-42b7-b955-3995b2d3fafc",
   "metadata": {},
   "outputs": [],
   "source": [
    "df"
   ]
  },
  {
   "cell_type": "code",
   "execution_count": null,
   "id": "e8fd0c52-c69b-4445-bd13-e01825cae8de",
   "metadata": {},
   "outputs": [],
   "source": [
    "#カラム名の変更\n",
    "df = df.frame("
   ]
  },
  {
   "cell_type": "code",
   "execution_count": null,
   "id": "4e40ac47-4a14-47b4-896f-0d08c9043340",
   "metadata": {},
   "outputs": [],
   "source": []
  }
 ],
 "metadata": {
  "kernelspec": {
   "display_name": "Python 3 (ipykernel)",
   "language": "python",
   "name": "python3"
  },
  "language_info": {
   "codemirror_mode": {
    "name": "ipython",
    "version": 3
   },
   "file_extension": ".py",
   "mimetype": "text/x-python",
   "name": "python",
   "nbconvert_exporter": "python",
   "pygments_lexer": "ipython3",
   "version": "3.9.6"
  }
 },
 "nbformat": 4,
 "nbformat_minor": 5
}
