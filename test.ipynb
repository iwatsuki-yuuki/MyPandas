{
 "cells": [
  {
   "cell_type": "code",
   "execution_count": 1,
   "id": "4ab4a2d7-4bd6-4591-9bb8-8d23612fc464",
   "metadata": {},
   "outputs": [
    {
     "name": "stdout",
     "output_type": "stream",
     "text": [
      "3\n"
     ]
    }
   ],
   "source": [
    "print(1+2)"
   ]
  },
  {
   "cell_type": "code",
   "execution_count": 2,
   "id": "c0b92f84-124d-455d-93cc-265cf0c657b9",
   "metadata": {},
   "outputs": [
    {
     "name": "stdout",
     "output_type": "stream",
     "text": [
      "hello world\n"
     ]
    }
   ],
   "source": [
    "print(\"hello world\")"
   ]
  },
  {
   "cell_type": "code",
   "execution_count": 4,
   "id": "96301427-15e4-4734-b1e0-7cfefd273827",
   "metadata": {},
   "outputs": [],
   "source": [
    "#こんにちは"
   ]
  },
  {
   "cell_type": "markdown",
   "id": "b60a58b9-f3f6-4e57-a4d7-adfb31a9edd6",
   "metadata": {},
   "source": [
    "# こんにちは"
   ]
  },
  {
   "cell_type": "code",
   "execution_count": 1,
   "id": "cc2ee1e5-fc0b-4727-a8c9-2a24f5bbb614",
   "metadata": {},
   "outputs": [
    {
     "name": "stdout",
     "output_type": "stream",
     "text": [
      "61.0\n",
      "sato passed\n"
     ]
    }
   ],
   "source": [
    "class Student:\n",
    "    def __init__(self,name):\n",
    "        self.name = name\n",
    "\n",
    "    def caluculate_avg(self,date):\n",
    "        sum = 0\n",
    "\n",
    "        for num in date:\n",
    "            sum += num\n",
    "        \n",
    "        avg = sum/len(date)\n",
    "        return avg\n",
    "    \n",
    "    def judge(self,avg):\n",
    "        if (avg >= 60):\n",
    "            result=\"passed\"\n",
    "        else:\n",
    "            result=\"failed\"\n",
    "        return result\n",
    "    \n",
    "a001 = Student(\"sato\")\n",
    "date = [70,65,50,90,30]\n",
    "avg = a001.caluculate_avg(date)\n",
    "result = a001.judge(avg)\n",
    "\n",
    "print(avg)\n",
    "print(a001.name+\" \"+result)"
   ]
  },
  {
   "cell_type": "code",
   "execution_count": null,
   "id": "aa639128-a5d9-481f-a227-d516f920f7e8",
   "metadata": {},
   "outputs": [],
   "source": []
  }
 ],
 "metadata": {
  "kernelspec": {
   "display_name": "Python 3 (ipykernel)",
   "language": "python",
   "name": "python3"
  },
  "language_info": {
   "codemirror_mode": {
    "name": "ipython",
    "version": 3
   },
   "file_extension": ".py",
   "mimetype": "text/x-python",
   "name": "python",
   "nbconvert_exporter": "python",
   "pygments_lexer": "ipython3",
   "version": "3.9.6"
  }
 },
 "nbformat": 4,
 "nbformat_minor": 5
}
